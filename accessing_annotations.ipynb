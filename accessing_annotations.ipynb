{
 "cells": [
  {
   "cell_type": "markdown",
   "id": "fb6f2633",
   "metadata": {},
   "source": [
    "# Connect to public s3 AWS bucket"
   ]
  },
  {
   "cell_type": "code",
   "execution_count": 8,
   "id": "6ab0fd7b",
   "metadata": {},
   "outputs": [],
   "source": [
    "import duckdb"
   ]
  },
  {
   "cell_type": "code",
   "execution_count": 9,
   "id": "27d2b83d",
   "metadata": {},
   "outputs": [],
   "source": [
    "con = duckdb.connect()\n",
    "con.install_extension('httpfs')"
   ]
  },
  {
   "cell_type": "code",
   "execution_count": null,
   "id": "3ae8b227",
   "metadata": {},
   "outputs": [
    {
     "name": "stdout",
     "output_type": "stream",
     "text": [
      "Loaded 55,300 annotations across 2,212 images from 3 unique geographic realms.\n"
     ]
    }
   ],
   "source": [
    "con.load_extension('httpfs')\n",
    "\n",
    "# Configure S3 (for public buckets you only need region)\n",
    "con.execute(\"SET s3_region='us-east-1'\")\n",
    "con.execute(\"SET s3_access_key_id=''\")\n",
    "con.execute(\"SET s3_secret_access_key=''\")\n",
    "con.execute(\"SET s3_session_token=''\")\n",
    "\n",
    "s3_url = \"s3://coral-reef-training/mermaid/mermaid_confirmed_annotations.parquet\"\n",
    "\n",
    "df_annotations = con.execute(f\"SELECT * FROM read_parquet('{s3_url}')\").df()\n",
    "\n",
    "df_images = df_annotations[[\"image_id\",\"region_id\",\"region_name\"]].drop_duplicates(\"image_id\")\n",
    "\n",
    "print(\n",
    "    f\"Loaded {len(df_annotations):,} annotations across \"\n",
    "    f\"{len(df_images):,} images from \"\n",
    "    f\"{df_images['region_id'].nunique():,} unique geographic realms.\"\n",
    ")"
   ]
  },
  {
   "cell_type": "code",
   "execution_count": 11,
   "id": "a6c2c6b6",
   "metadata": {},
   "outputs": [
    {
     "data": {
      "text/plain": [
       "Index(['id', 'image_id', 'point_id', 'row', 'col', 'benthic_attribute_id',\n",
       "       'benthic_attribute_name', 'growth_form_id', 'growth_form_name',\n",
       "       'updated_on', 'region_id', 'region_name'],\n",
       "      dtype='object')"
      ]
     },
     "execution_count": 11,
     "metadata": {},
     "output_type": "execute_result"
    }
   ],
   "source": [
    "df_annotations.columns"
   ]
  },
  {
   "cell_type": "code",
   "execution_count": 15,
   "id": "a50ae829",
   "metadata": {},
   "outputs": [
    {
     "name": "stdout",
     "output_type": "stream",
     "text": [
      "Total number of annotations: 55,300\n",
      "Different regions: ['Western Indo-Pacific' 'Central Indo-Pacific' 'Tropical Atlantic']\n",
      "Number of annotations in 'Tropical Atlantic': 325\n",
      "Number of images in 'Tropical Atlantic': 13\n"
     ]
    }
   ],
   "source": [
    "print(f'Total number of annotations: {len(df_annotations):,}')\n",
    "print(f'Different regions: {df_annotations['region_name'].unique()}')\n",
    "print(f'Number of annotations in \\'Tropical Atlantic\\': {len(df_annotations[df_annotations['region_name'] == 'Tropical Atlantic'])}')\n",
    "print(f'Number of images in \\'Tropical Atlantic\\': {len(df_images[df_images['region_name'] == 'Tropical Atlantic'])}')"
   ]
  },
  {
   "cell_type": "code",
   "execution_count": 16,
   "id": "4ca9382f",
   "metadata": {},
   "outputs": [],
   "source": [
    "atl_imgs = df_images[df_images['region_name'] == 'Tropical Atlantic']"
   ]
  }
 ],
 "metadata": {
  "kernelspec": {
   "display_name": "Python 3",
   "language": "python",
   "name": "python3"
  },
  "language_info": {
   "codemirror_mode": {
    "name": "ipython",
    "version": 3
   },
   "file_extension": ".py",
   "mimetype": "text/x-python",
   "name": "python",
   "nbconvert_exporter": "python",
   "pygments_lexer": "ipython3",
   "version": "3.12.3"
  }
 },
 "nbformat": 4,
 "nbformat_minor": 5
}
